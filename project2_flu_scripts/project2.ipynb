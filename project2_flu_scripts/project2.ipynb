{
 "cells": [
  {
   "cell_type": "code",
   "execution_count": 93,
   "metadata": {},
   "outputs": [],
   "source": [
    "import pandas as pd\n",
    "import matplotlib.pyplot as plt\n",
    "from sklearn.cluster import KMeans\n",
    "import numpy as np"
   ]
  },
  {
   "cell_type": "markdown",
   "metadata": {},
   "source": [
    "# Data"
   ]
  },
  {
   "cell_type": "code",
   "execution_count": 94,
   "metadata": {},
   "outputs": [],
   "source": [
    "df1 = pd.read_csv('raw_data/VarScan_results_alignment_1.csv')\n",
    "df2 = pd.read_csv('raw_data/VarScan_results_alignment_2.csv')\n",
    "df3 = pd.read_csv('raw_data/VarScan_results_alignment_3.csv')\n",
    "df_roommate = pd.read_csv('raw_data/VarScan_results_roommate.csv')\n",
    "\n",
    "df1.frequency = df1.frequency.apply(lambda x: x.strip('%')).astype(float)\n",
    "df2.frequency = df2.frequency.apply(lambda x: x.strip('%')).astype(float)\n",
    "df3.frequency = df3.frequency.apply(lambda x: x.strip('%')).astype(float)\n",
    "df_roommate.frequency = df_roommate.frequency.apply(lambda x: x.strip('%')).astype(float)"
   ]
  },
  {
   "cell_type": "markdown",
   "metadata": {},
   "source": [
    "# Calculate the average and standard deviation"
   ]
  },
  {
   "cell_type": "code",
   "execution_count": 107,
   "metadata": {},
   "outputs": [
    {
     "name": "stdout",
     "output_type": "stream",
     "text": [
      "1st control\n",
      "Average: 0.256\n",
      "Standard deviation: 0.072\n",
      "2st control\n",
      "Average: 0.237\n",
      "Standard deviation: 0.052\n",
      "3st control\n",
      "Average: 0.25\n",
      "Standard deviation: 0.078\n"
     ]
    }
   ],
   "source": [
    "av1 = df1.frequency.mean()\n",
    "std1 = df1.frequency.std()\n",
    "\n",
    "av2 = df2.frequency.mean()\n",
    "std2 = df2.frequency.std()\n",
    "\n",
    "av3 = df3.frequency.mean()\n",
    "std3 = df3.frequency.std()\n",
    "\n",
    "print('1st control')\n",
    "print('Average:', round(av1, 3))\n",
    "print('Standard deviation:', round(std1, 3))\n",
    "\n",
    "print('2st control')\n",
    "print('Average:', round(av2, 3))\n",
    "print('Standard deviation:', round(std2, 3))\n",
    "\n",
    "print('3st control')\n",
    "print('Average:', round(av3, 3))\n",
    "print('Standard deviation:', round(std3, 3))"
   ]
  },
  {
   "cell_type": "code",
   "execution_count": 96,
   "metadata": {},
   "outputs": [
    {
     "name": "stdout",
     "output_type": "stream",
     "text": [
      "Average: 0.24829411764705883\n",
      "Standard deviation: 0.06898268773972734\n"
     ]
    }
   ],
   "source": [
    "df = pd.concat([df1, df2, df3])\n",
    "\n",
    "av = df.frequency.mean()\n",
    "std = df.frequency.std()\n",
    "\n",
    "print('Average:', av)\n",
    "print('Standard deviation:', std)"
   ]
  },
  {
   "cell_type": "code",
   "execution_count": 97,
   "metadata": {},
   "outputs": [
    {
     "data": {
      "text/html": [
       "<div>\n",
       "<style scoped>\n",
       "    .dataframe tbody tr th:only-of-type {\n",
       "        vertical-align: middle;\n",
       "    }\n",
       "\n",
       "    .dataframe tbody tr th {\n",
       "        vertical-align: top;\n",
       "    }\n",
       "\n",
       "    .dataframe thead th {\n",
       "        text-align: right;\n",
       "    }\n",
       "</style>\n",
       "<table border=\"1\" class=\"dataframe\">\n",
       "  <thead>\n",
       "    <tr style=\"text-align: right;\">\n",
       "      <th></th>\n",
       "      <th>position</th>\n",
       "      <th>reference_base</th>\n",
       "      <th>alternative_base</th>\n",
       "      <th>frequency</th>\n",
       "      <th>significant</th>\n",
       "    </tr>\n",
       "  </thead>\n",
       "  <tbody>\n",
       "    <tr>\n",
       "      <th>0</th>\n",
       "      <td>72</td>\n",
       "      <td>A</td>\n",
       "      <td>G</td>\n",
       "      <td>99.96</td>\n",
       "      <td>True</td>\n",
       "    </tr>\n",
       "    <tr>\n",
       "      <th>1</th>\n",
       "      <td>117</td>\n",
       "      <td>C</td>\n",
       "      <td>T</td>\n",
       "      <td>99.82</td>\n",
       "      <td>True</td>\n",
       "    </tr>\n",
       "    <tr>\n",
       "      <th>4</th>\n",
       "      <td>307</td>\n",
       "      <td>C</td>\n",
       "      <td>T</td>\n",
       "      <td>0.94</td>\n",
       "      <td>True</td>\n",
       "    </tr>\n",
       "    <tr>\n",
       "      <th>10</th>\n",
       "      <td>774</td>\n",
       "      <td>T</td>\n",
       "      <td>C</td>\n",
       "      <td>99.96</td>\n",
       "      <td>True</td>\n",
       "    </tr>\n",
       "    <tr>\n",
       "      <th>14</th>\n",
       "      <td>999</td>\n",
       "      <td>C</td>\n",
       "      <td>T</td>\n",
       "      <td>99.86</td>\n",
       "      <td>True</td>\n",
       "    </tr>\n",
       "    <tr>\n",
       "      <th>18</th>\n",
       "      <td>1260</td>\n",
       "      <td>A</td>\n",
       "      <td>C</td>\n",
       "      <td>99.94</td>\n",
       "      <td>True</td>\n",
       "    </tr>\n",
       "    <tr>\n",
       "      <th>20</th>\n",
       "      <td>1458</td>\n",
       "      <td>T</td>\n",
       "      <td>C</td>\n",
       "      <td>0.84</td>\n",
       "      <td>True</td>\n",
       "    </tr>\n",
       "  </tbody>\n",
       "</table>\n",
       "</div>"
      ],
      "text/plain": [
       "    position reference_base alternative_base  frequency  significant\n",
       "0         72              A                G      99.96         True\n",
       "1        117              C                T      99.82         True\n",
       "4        307              C                T       0.94         True\n",
       "10       774              T                C      99.96         True\n",
       "14       999              C                T      99.86         True\n",
       "18      1260              A                C      99.94         True\n",
       "20      1458              T                C       0.84         True"
      ]
     },
     "execution_count": 97,
     "metadata": {},
     "output_type": "execute_result"
    }
   ],
   "source": [
    "df_roommate['significant'] = df_roommate.frequency.apply(lambda x: x < av - 3 * std or x > av + 3 * std)\n",
    "df_roommate[df_roommate.significant == True]"
   ]
  },
  {
   "cell_type": "markdown",
   "metadata": {},
   "source": [
    "# Epitopes"
   ]
  },
  {
   "cell_type": "code",
   "execution_count": 98,
   "metadata": {},
   "outputs": [
    {
     "data": {
      "text/html": [
       "<div>\n",
       "<style scoped>\n",
       "    .dataframe tbody tr th:only-of-type {\n",
       "        vertical-align: middle;\n",
       "    }\n",
       "\n",
       "    .dataframe tbody tr th {\n",
       "        vertical-align: top;\n",
       "    }\n",
       "\n",
       "    .dataframe thead th {\n",
       "        text-align: right;\n",
       "    }\n",
       "</style>\n",
       "<table border=\"1\" class=\"dataframe\">\n",
       "  <thead>\n",
       "    <tr style=\"text-align: right;\">\n",
       "      <th></th>\n",
       "      <th>position</th>\n",
       "      <th>reference_base</th>\n",
       "      <th>alternative_base</th>\n",
       "      <th>frequency</th>\n",
       "      <th>significant</th>\n",
       "      <th>epitope</th>\n",
       "    </tr>\n",
       "  </thead>\n",
       "  <tbody>\n",
       "    <tr>\n",
       "      <th>0</th>\n",
       "      <td>72</td>\n",
       "      <td>A</td>\n",
       "      <td>G</td>\n",
       "      <td>99.96</td>\n",
       "      <td>True</td>\n",
       "      <td>None</td>\n",
       "    </tr>\n",
       "    <tr>\n",
       "      <th>1</th>\n",
       "      <td>117</td>\n",
       "      <td>C</td>\n",
       "      <td>T</td>\n",
       "      <td>99.82</td>\n",
       "      <td>True</td>\n",
       "      <td>None</td>\n",
       "    </tr>\n",
       "    <tr>\n",
       "      <th>2</th>\n",
       "      <td>254</td>\n",
       "      <td>A</td>\n",
       "      <td>G</td>\n",
       "      <td>0.17</td>\n",
       "      <td>False</td>\n",
       "      <td>None</td>\n",
       "    </tr>\n",
       "    <tr>\n",
       "      <th>3</th>\n",
       "      <td>276</td>\n",
       "      <td>A</td>\n",
       "      <td>G</td>\n",
       "      <td>0.17</td>\n",
       "      <td>False</td>\n",
       "      <td>E</td>\n",
       "    </tr>\n",
       "    <tr>\n",
       "      <th>4</th>\n",
       "      <td>307</td>\n",
       "      <td>C</td>\n",
       "      <td>T</td>\n",
       "      <td>0.94</td>\n",
       "      <td>True</td>\n",
       "      <td>D</td>\n",
       "    </tr>\n",
       "    <tr>\n",
       "      <th>5</th>\n",
       "      <td>340</td>\n",
       "      <td>T</td>\n",
       "      <td>C</td>\n",
       "      <td>0.17</td>\n",
       "      <td>False</td>\n",
       "      <td>None</td>\n",
       "    </tr>\n",
       "    <tr>\n",
       "      <th>6</th>\n",
       "      <td>389</td>\n",
       "      <td>T</td>\n",
       "      <td>C</td>\n",
       "      <td>0.22</td>\n",
       "      <td>False</td>\n",
       "      <td>A</td>\n",
       "    </tr>\n",
       "    <tr>\n",
       "      <th>7</th>\n",
       "      <td>691</td>\n",
       "      <td>A</td>\n",
       "      <td>G</td>\n",
       "      <td>0.17</td>\n",
       "      <td>False</td>\n",
       "      <td>None</td>\n",
       "    </tr>\n",
       "    <tr>\n",
       "      <th>8</th>\n",
       "      <td>722</td>\n",
       "      <td>A</td>\n",
       "      <td>G</td>\n",
       "      <td>0.20</td>\n",
       "      <td>False</td>\n",
       "      <td>None</td>\n",
       "    </tr>\n",
       "    <tr>\n",
       "      <th>9</th>\n",
       "      <td>744</td>\n",
       "      <td>A</td>\n",
       "      <td>G</td>\n",
       "      <td>0.17</td>\n",
       "      <td>False</td>\n",
       "      <td>D</td>\n",
       "    </tr>\n",
       "    <tr>\n",
       "      <th>10</th>\n",
       "      <td>774</td>\n",
       "      <td>T</td>\n",
       "      <td>C</td>\n",
       "      <td>99.96</td>\n",
       "      <td>True</td>\n",
       "      <td>None</td>\n",
       "    </tr>\n",
       "    <tr>\n",
       "      <th>11</th>\n",
       "      <td>802</td>\n",
       "      <td>A</td>\n",
       "      <td>G</td>\n",
       "      <td>0.23</td>\n",
       "      <td>False</td>\n",
       "      <td>None</td>\n",
       "    </tr>\n",
       "    <tr>\n",
       "      <th>12</th>\n",
       "      <td>859</td>\n",
       "      <td>A</td>\n",
       "      <td>G</td>\n",
       "      <td>0.18</td>\n",
       "      <td>False</td>\n",
       "      <td>None</td>\n",
       "    </tr>\n",
       "    <tr>\n",
       "      <th>13</th>\n",
       "      <td>915</td>\n",
       "      <td>T</td>\n",
       "      <td>C</td>\n",
       "      <td>0.19</td>\n",
       "      <td>False</td>\n",
       "      <td>C</td>\n",
       "    </tr>\n",
       "    <tr>\n",
       "      <th>14</th>\n",
       "      <td>999</td>\n",
       "      <td>C</td>\n",
       "      <td>T</td>\n",
       "      <td>99.86</td>\n",
       "      <td>True</td>\n",
       "      <td>None</td>\n",
       "    </tr>\n",
       "    <tr>\n",
       "      <th>15</th>\n",
       "      <td>1043</td>\n",
       "      <td>A</td>\n",
       "      <td>G</td>\n",
       "      <td>0.18</td>\n",
       "      <td>False</td>\n",
       "      <td>None</td>\n",
       "    </tr>\n",
       "    <tr>\n",
       "      <th>16</th>\n",
       "      <td>1086</td>\n",
       "      <td>A</td>\n",
       "      <td>G</td>\n",
       "      <td>0.21</td>\n",
       "      <td>False</td>\n",
       "      <td>None</td>\n",
       "    </tr>\n",
       "    <tr>\n",
       "      <th>17</th>\n",
       "      <td>1213</td>\n",
       "      <td>A</td>\n",
       "      <td>G</td>\n",
       "      <td>0.22</td>\n",
       "      <td>False</td>\n",
       "      <td>None</td>\n",
       "    </tr>\n",
       "    <tr>\n",
       "      <th>18</th>\n",
       "      <td>1260</td>\n",
       "      <td>A</td>\n",
       "      <td>C</td>\n",
       "      <td>99.94</td>\n",
       "      <td>True</td>\n",
       "      <td>None</td>\n",
       "    </tr>\n",
       "    <tr>\n",
       "      <th>19</th>\n",
       "      <td>1280</td>\n",
       "      <td>T</td>\n",
       "      <td>C</td>\n",
       "      <td>0.18</td>\n",
       "      <td>False</td>\n",
       "      <td>None</td>\n",
       "    </tr>\n",
       "    <tr>\n",
       "      <th>20</th>\n",
       "      <td>1458</td>\n",
       "      <td>T</td>\n",
       "      <td>C</td>\n",
       "      <td>0.84</td>\n",
       "      <td>True</td>\n",
       "      <td>None</td>\n",
       "    </tr>\n",
       "  </tbody>\n",
       "</table>\n",
       "</div>"
      ],
      "text/plain": [
       "    position reference_base alternative_base  frequency  significant epitope\n",
       "0         72              A                G      99.96         True    None\n",
       "1        117              C                T      99.82         True    None\n",
       "2        254              A                G       0.17        False    None\n",
       "3        276              A                G       0.17        False       E\n",
       "4        307              C                T       0.94         True       D\n",
       "5        340              T                C       0.17        False    None\n",
       "6        389              T                C       0.22        False       A\n",
       "7        691              A                G       0.17        False    None\n",
       "8        722              A                G       0.20        False    None\n",
       "9        744              A                G       0.17        False       D\n",
       "10       774              T                C      99.96         True    None\n",
       "11       802              A                G       0.23        False    None\n",
       "12       859              A                G       0.18        False    None\n",
       "13       915              T                C       0.19        False       C\n",
       "14       999              C                T      99.86         True    None\n",
       "15      1043              A                G       0.18        False    None\n",
       "16      1086              A                G       0.21        False    None\n",
       "17      1213              A                G       0.22        False    None\n",
       "18      1260              A                C      99.94         True    None\n",
       "19      1280              T                C       0.18        False    None\n",
       "20      1458              T                C       0.84         True    None"
      ]
     },
     "execution_count": 98,
     "metadata": {},
     "output_type": "execute_result"
    }
   ],
   "source": [
    "epitopes = {\n",
    "    'A': [122, 124, 126, 130, 131, 132, 133, 135, 137, 138, 140, 142, 143, 144, 145, 146, 150, 152, 168],\n",
    "    'B': [128, 129, 155, 156, 157, 158, 159, 160, 163, 165, 186, 187, 188, 189, 190, 192, 193, 194, 196, 197, 198],\n",
    "    'C': [44, 45, 46, 47, 48, 50, 51, 53, 54, 273, 275, 276, 278, 279, 280, 294, 297, 299, 300, 304, 305, 307, \n",
    "          308, 309, 310, 311, 312],\n",
    "    'D': [96, 102, 103, 117, 121, 167, 170 , 171, 172, 173, 174, 175, 176, 177, 179, 182, 201, 203, 207, 208, 209, \n",
    "          212, 213, 214, 215, 216, 217, 218, 219, 226, 227, 228, 229, 230, 238, 240, 242, 244, 246, 247, 248],\n",
    "    'E': [57, 59, 62, 63, 67, 75, 78, 80, 81, 82, 83, 86, 87, 88, 91, 92, 94, 109, 260, 261, 262, 265]\n",
    "}\n",
    "\n",
    "def find_epitope(x):\n",
    "    protein_pos = (x - 1) // 3 + 1\n",
    "    for k in epitopes.keys(): \n",
    "        if protein_pos in epitopes[k]: \n",
    "            return k\n",
    "    return None\n",
    "\n",
    "df_roommate['epitope'] = df_roommate.position.apply(find_epitope)\n",
    "df_roommate"
   ]
  },
  {
   "cell_type": "markdown",
   "metadata": {},
   "source": [
    "# Save result"
   ]
  },
  {
   "cell_type": "code",
   "execution_count": 99,
   "metadata": {},
   "outputs": [],
   "source": [
    "df_roommate.to_csv('raw_data/VarScan_results_roommate_sign_epits.csv')"
   ]
  },
  {
   "cell_type": "markdown",
   "metadata": {},
   "source": [
    "# PCR errors"
   ]
  },
  {
   "cell_type": "code",
   "execution_count": 105,
   "metadata": {},
   "outputs": [
    {
     "data": {
      "image/png": "[encoded data removed]",
      "text/plain": [
       "<Figure size 432x288 with 1 Axes>"
      ]
     },
     "metadata": {
      "needs_background": "light"
     },
     "output_type": "display_data"
    }
   ],
   "source": [
    "q1, q3 = df.frequency.quantile([0.25, 0.75])\n",
    "k = 1.5\n",
    "\n",
    "x1 = q1 - k * (q3 - q1)\n",
    "x2 = q3 + k * (q3 - q1)\n",
    "\n",
    "plt.hist(df.frequency, bins=20)\n",
    "plt.axvline(x=x1, c='r')\n",
    "plt.axvline(x=x2, c='r')\n",
    "plt.show()"
   ]
  },
  {
   "cell_type": "code",
   "execution_count": 101,
   "metadata": {},
   "outputs": [
    {
     "data": {
      "image/png": "[encoded data removed]",
      "text/plain": [
       "<Figure size 1440x720 with 1 Axes>"
      ]
     },
     "metadata": {
      "needs_background": "light"
     },
     "output_type": "display_data"
    }
   ],
   "source": [
    "kmeans = KMeans(n_clusters=2, random_state=0).fit(np.array(df.frequency).reshape(-1, 1))\n",
    "df['kmeans'] = kmeans.labels_\n",
    "df.head()\n",
    "\n",
    "plt.figure(figsize=(20,10))\n",
    "plt.scatter(df[df.kmeans == 0].position, df[df.kmeans == 0].frequency, label='Sequence')\n",
    "plt.scatter(df[df.kmeans == 1].position, df[df.kmeans == 1].frequency, c='r', label='PCR')\n",
    "plt.xlabel('Position')\n",
    "plt.ylabel('Frequency')\n",
    "plt.legend()\n",
    "plt.show()"
   ]
  },
  {
   "cell_type": "markdown",
   "metadata": {},
   "source": [
    "# PCR and sequencing errors average and standard deviation"
   ]
  },
  {
   "cell_type": "code",
   "execution_count": 103,
   "metadata": {},
   "outputs": [
    {
     "name": "stdout",
     "output_type": "stream",
     "text": [
      "PCR errors avg: 0.5825\n",
      "PCR errors std: 0.114418821295566\n",
      "Read errors avg: 0.2402409638554217\n",
      "Read errors std: 0.04316215805019717\n"
     ]
    }
   ],
   "source": [
    "print('PCR errors avg:', df[df.kmeans == 1].frequency.mean())\n",
    "print('PCR errors std:', df[df.kmeans == 1].frequency.std())\n",
    "\n",
    "print('Read errors avg:', df[df.kmeans == 0].frequency.mean())\n",
    "print('Read errors std:', df[df.kmeans == 0].frequency.std())"
   ]
  },
  {
   "cell_type": "code",
   "execution_count": null,
   "metadata": {},
   "outputs": [],
   "source": []
  }
 ],
 "metadata": {
  "kernelspec": {
   "display_name": "Python 3",
   "language": "python",
   "name": "python3"
  },
  "language_info": {
   "codemirror_mode": {
    "name": "ipython",
    "version": 3
   },
   "file_extension": ".py",
   "mimetype": "text/x-python",
   "name": "python",
   "nbconvert_exporter": "python",
   "pygments_lexer": "ipython3",
   "version": "3.8.6"
  }
 },
 "nbformat": 4,
 "nbformat_minor": 1
}
